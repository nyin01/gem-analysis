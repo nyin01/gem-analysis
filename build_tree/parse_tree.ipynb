{
 "cells": [
  {
   "cell_type": "markdown",
   "metadata": {},
   "source": [
    "### Packages"
   ]
  },
  {
   "cell_type": "code",
   "execution_count": 1,
   "metadata": {
    "tags": []
   },
   "outputs": [],
   "source": [
    "# !pip install dendropy"
   ]
  },
  {
   "cell_type": "code",
   "execution_count": 2,
   "metadata": {
    "tags": []
   },
   "outputs": [],
   "source": [
    "import sys  \n",
    "import os\n",
    "import pandas as pd\n",
    "import numpy as np\n",
    "import matplotlib.pyplot as plt\n",
    "import dendropy"
   ]
  },
  {
   "cell_type": "markdown",
   "metadata": {},
   "source": [
    "### Paths"
   ]
  },
  {
   "cell_type": "code",
   "execution_count": 3,
   "metadata": {
    "tags": []
   },
   "outputs": [
    {
     "name": "stdout",
     "output_type": "stream",
     "text": [
      "/Users/yinzheng/Documents/GitHub/gem-analysis/build_tree\n"
     ]
    }
   ],
   "source": [
    "!pwd"
   ]
  },
  {
   "cell_type": "code",
   "execution_count": 4,
   "metadata": {
    "tags": []
   },
   "outputs": [],
   "source": [
    "# INPUT_DIR = '/oscar/data/biol1525_s24/project_folders/phageassoc_group/gem-analysis/build_tree'\n",
    "# SAVE_DIR = '/oscar/data/biol1525_s24/project_folders/phageassoc_group/gem-analysis/build_tree'\n",
    "INPUT_DIR = ''\n",
    "SAVE_DIR = ''\n",
    "TREE_FILE = 'example_tree.newick'"
   ]
  },
  {
   "cell_type": "markdown",
   "metadata": {},
   "source": [
    "### DendroPy references"
   ]
  },
  {
   "cell_type": "markdown",
   "metadata": {},
   "source": [
    "https://dendropy.readthedocs.io/en/main/schemas/newick.html"
   ]
  },
  {
   "cell_type": "markdown",
   "metadata": {},
   "source": [
    "https://dendropy.readthedocs.io/en/main/library/treemodel.html\n"
   ]
  },
  {
   "cell_type": "markdown",
   "metadata": {},
   "source": [
    "### Read tree from newick file"
   ]
  },
  {
   "cell_type": "code",
   "execution_count": 5,
   "metadata": {
    "tags": []
   },
   "outputs": [],
   "source": [
    "tree = dendropy.Tree.get(\n",
    "    path=os.path.join(INPUT_DIR, TREE_FILE),\n",
    "    schema=\"newick\",\n",
    "    label=None,\n",
    "    taxon_namespace=None,\n",
    "    collection_offset=None,\n",
    "    tree_offset=None,\n",
    "    rooting=\"default-unrooted\",\n",
    "    edge_length_type=float,\n",
    "    suppress_edge_lengths=False,\n",
    "    extract_comment_metadata=True,\n",
    "    store_tree_weights=False,\n",
    "    finish_node_fn=None,\n",
    "    case_sensitive_taxon_labels=False,\n",
    "    preserve_underscores=False,\n",
    "    suppress_internal_node_taxa=True,\n",
    "    suppress_leaf_node_taxa=False,\n",
    "    terminating_semicolon_required=True,\n",
    "    ignore_unrecognized_keyword_arguments=False,\n",
    ")"
   ]
  },
  {
   "cell_type": "markdown",
   "metadata": {},
   "source": [
    "### Functions"
   ]
  },
  {
   "cell_type": "code",
   "execution_count": 6,
   "metadata": {},
   "outputs": [],
   "source": [
    "def get_subtree(tree, taxa_labels, is_keyword_search=True):\n",
    "    \"\"\"\n",
    "    Get the subtree of a tree rooted at a given node.\n",
    "\n",
    "    Args:\n",
    "        tree (Tree): The tree object to extract the subtree from.\n",
    "        taxa_labels (list): A list of taxa labels to root the subtree at.\n",
    "        is_keyword_search (bool): If True, the taxa_labels are treated as keywords to search for in the taxa labels.\n",
    "\n",
    "    Returns:\n",
    "        subtree: The subtree rooted at the given node.\n",
    "        \n",
    "    \"\"\"\n",
    "\n",
    "    filter_taxa_labels = taxa_labels\n",
    "\n",
    "    if is_keyword_search:\n",
    "        # get all taxa labels\n",
    "        all_taxa_labels = [taxon.label for taxon in tree.taxon_namespace]\n",
    "        # filter for taxa labels\n",
    "        filter_taxa_labels = [label for label in all_taxa_labels if any(keyword in label for keyword in taxa_labels)]\n",
    "    \n",
    "    subtree = tree.extract_tree_with_taxa_labels(filter_taxa_labels)\n",
    "    \n",
    "    return subtree"
   ]
  },
  {
   "cell_type": "code",
   "execution_count": 7,
   "metadata": {},
   "outputs": [],
   "source": [
    "def save_tree_vis(tree, file_name, is_print=False):\n",
    "    \"\"\"\n",
    "    Save the ASCII representation of a tree to a text file.\n",
    "\n",
    "    Args:\n",
    "        tree (Tree): The tree object to save.\n",
    "        file_name (str): The name of the file to save the ASCII tree to.\n",
    "        \n",
    "    \"\"\"\n",
    "    ascii_tree = tree.as_ascii_plot()\n",
    "    with open(os.path.join(SAVE_DIR, file_name), 'w') as f:\n",
    "        f.write(ascii_tree)\n",
    "    if is_print:\n",
    "        print(ascii_tree)"
   ]
  },
  {
   "cell_type": "code",
   "execution_count": 8,
   "metadata": {},
   "outputs": [],
   "source": [
    "def save_tree_newick(tree, file_name):\n",
    "    \"\"\"\n",
    "    Save the Newick representation of a tree to a text file.\n",
    "\n",
    "    Args:\n",
    "        tree (Tree): The tree object to save.\n",
    "        file_name (str): The name of the file to save the Newick tree to.\n",
    "        \n",
    "    \"\"\"\n",
    "    with open(os.path.join(SAVE_DIR, file_name), 'w') as f:\n",
    "        f.write(tree.as_string(schema='newick'))"
   ]
  },
  {
   "cell_type": "markdown",
   "metadata": {},
   "source": [
    "### Save and visualize original and filtered trees"
   ]
  },
  {
   "cell_type": "code",
   "execution_count": 9,
   "metadata": {
    "tags": []
   },
   "outputs": [
    {
     "name": "stdout",
     "output_type": "stream",
     "text": [
      "['KM279529.1', 'KM279544.1', 'KM279551.1', 'KM279530.1', 'KX380812.1']\n"
     ]
    },
    {
     "data": {
      "text/plain": [
       "165"
      ]
     },
     "execution_count": 9,
     "metadata": {},
     "output_type": "execute_result"
    }
   ],
   "source": [
    "# original tree\n",
    "save_tree_vis(tree, 'tree.txt')\n",
    "print([taxon.label for taxon in tree.taxon_namespace][:5])\n",
    "len(tree.leaf_nodes())"
   ]
  },
  {
   "cell_type": "code",
   "execution_count": 10,
   "metadata": {
    "tags": []
   },
   "outputs": [
    {
     "name": "stdout",
     "output_type": "stream",
     "text": [
      "                      /--------------------------------------------- MK564482.1\n",
      "/---------------------+                                                        \n",
      "|                     |                      /---------------------- KU365902.1\n",
      "|                     \\----------------------+                                 \n",
      "|                                            \\---------------------- KU365903.1\n",
      "+                                                                              \n",
      "|                                            /---------------------- KX225485.1\n",
      "|                     /----------------------+                                 \n",
      "|                     |                      \\---------------------- KT187555.1\n",
      "\\---------------------+                                                        \n",
      "                      |                      /---------------------- MK564487.1\n",
      "                      \\----------------------+                                 \n",
      "                                             \\---------------------- EU482640.1\n",
      "                                                                               \n",
      "                                                                               \n"
     ]
    },
    {
     "data": {
      "text/plain": [
       "7"
      ]
     },
     "execution_count": 10,
     "metadata": {},
     "output_type": "execute_result"
    }
   ],
   "source": [
    "# filter on taxa labels\n",
    "subtree_1 = get_subtree(tree, ['MK564482.1', 'KU365902.1', 'KU365903.1', 'KX225485.1', 'KT187555.1', 'MK564487.1', 'EU482640.1'], is_keyword_search=False)\n",
    "save_tree_vis(subtree_1, 'subtree_1.txt', is_print=True)\n",
    "len(subtree_1.leaf_nodes())"
   ]
  },
  {
   "cell_type": "code",
   "execution_count": 11,
   "metadata": {},
   "outputs": [],
   "source": [
    "save_tree_newick(subtree_1, 'subtree_1.newick')"
   ]
  },
  {
   "cell_type": "code",
   "execution_count": 12,
   "metadata": {},
   "outputs": [
    {
     "name": "stdout",
     "output_type": "stream",
     "text": [
      "/------------------------------------------------------------------- KY794785.1\n",
      "|                                                                              \n",
      "|            /------------------------------------------------------ FJ467493.1\n",
      "|            |                                                                 \n",
      "|            |                                               /------ FJ850066.1\n",
      "|            |                                        /------+                 \n",
      "|            |                                        |      \\------ FJ850115.1\n",
      "|     /------+      /---------------------------------+                        \n",
      "+     |      |      |                                 |      /------ FJ850106.1\n",
      "|     |      |      |                                 \\------+                 \n",
      "|     |      |      |                                        \\------ KY474310.1\n",
      "|     |      |      |                                                          \n",
      "|     |      |      |             /--------------------------------- FJ639704.1\n",
      "|     |      \\------+             |                                            \n",
      "|     |             |      /------+     /--------------------------- FJ744711.1\n",
      "|     |             |      |      |     |                                      \n",
      "|     |             |      |      \\-----+                    /------ KY849753.1\n",
      "\\-----+             |      |            |      /-------------+                 \n",
      "      |             |      |            |      |             \\------ KY672955.1\n",
      "      |             |      |            \\------+                               \n",
      "      |             \\------+                   |      /------------- FJ639832.1\n",
      "      |                    |                   \\------+                        \n",
      "      |                    |                          |      /------ FJ205877.1\n",
      "      |                    |                          \\------+                 \n",
      "      |                    |                                 \\------ FJ410237.1\n",
      "      |                    |                                                   \n",
      "      |                    \\---------------------------------------- FJ906959.1\n",
      "      |                                                                        \n",
      "      \\------------------------------------------------------------- KY921905.1\n",
      "                                                                               \n",
      "                                                                               \n"
     ]
    },
    {
     "data": {
      "text/plain": [
       "15"
      ]
     },
     "execution_count": 12,
     "metadata": {},
     "output_type": "execute_result"
    }
   ],
   "source": [
    "# filter on taxa label keywords\n",
    "subtree_2 = get_subtree(tree, ['KY', 'FJ'])\n",
    "save_tree_vis(subtree_2, 'subtree_2.txt', is_print=True)\n",
    "len(subtree_2.leaf_nodes())"
   ]
  },
  {
   "cell_type": "code",
   "execution_count": null,
   "metadata": {},
   "outputs": [],
   "source": []
  }
 ],
 "metadata": {
  "kernelspec": {
   "display_name": "Python 3 (ipykernel)",
   "language": "python",
   "name": "python3"
  },
  "language_info": {
   "codemirror_mode": {
    "name": "ipython",
    "version": 3
   },
   "file_extension": ".py",
   "mimetype": "text/x-python",
   "name": "python",
   "nbconvert_exporter": "python",
   "pygments_lexer": "ipython3",
   "version": "3.10.11"
  }
 },
 "nbformat": 4,
 "nbformat_minor": 4
}
