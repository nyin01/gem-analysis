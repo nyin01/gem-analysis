{
 "cells": [
  {
   "cell_type": "code",
   "execution_count": 1,
   "metadata": {},
   "outputs": [],
   "source": [
    "import pandas as pd\n",
    "import numpy as np\n",
    "import os"
   ]
  },
  {
   "cell_type": "code",
   "execution_count": 17,
   "metadata": {},
   "outputs": [
    {
     "data": {
      "text/html": [
       "<div>\n",
       "<style scoped>\n",
       "    .dataframe tbody tr th:only-of-type {\n",
       "        vertical-align: middle;\n",
       "    }\n",
       "\n",
       "    .dataframe tbody tr th {\n",
       "        vertical-align: top;\n",
       "    }\n",
       "\n",
       "    .dataframe thead th {\n",
       "        text-align: right;\n",
       "    }\n",
       "</style>\n",
       "<table border=\"1\" class=\"dataframe\">\n",
       "  <thead>\n",
       "    <tr style=\"text-align: right;\">\n",
       "      <th></th>\n",
       "      <th>Tree Node ID</th>\n",
       "      <th>Tree Node Label</th>\n",
       "    </tr>\n",
       "  </thead>\n",
       "  <tbody>\n",
       "    <tr>\n",
       "      <th>0</th>\n",
       "      <td>magid_2029527003_3</td>\n",
       "      <td>1</td>\n",
       "    </tr>\n",
       "    <tr>\n",
       "      <th>1</th>\n",
       "      <td>magid_2035918000_1</td>\n",
       "      <td>0</td>\n",
       "    </tr>\n",
       "    <tr>\n",
       "      <th>2</th>\n",
       "      <td>magid_2035918003_3</td>\n",
       "      <td>1</td>\n",
       "    </tr>\n",
       "    <tr>\n",
       "      <th>3</th>\n",
       "      <td>magid_2044078007_4</td>\n",
       "      <td>0</td>\n",
       "    </tr>\n",
       "    <tr>\n",
       "      <th>4</th>\n",
       "      <td>magid_2049941000_74</td>\n",
       "      <td>1</td>\n",
       "    </tr>\n",
       "  </tbody>\n",
       "</table>\n",
       "</div>"
      ],
      "text/plain": [
       "          Tree Node ID  Tree Node Label\n",
       "0   magid_2029527003_3                1\n",
       "1   magid_2035918000_1                0\n",
       "2   magid_2035918003_3                1\n",
       "3   magid_2044078007_4                0\n",
       "4  magid_2049941000_74                1"
      ]
     },
     "execution_count": 17,
     "metadata": {},
     "output_type": "execute_result"
    }
   ],
   "source": [
    "# import csv\n",
    "df = pd.read_csv('labels.csv')\n",
    "len(df)\n",
    "df.head()"
   ]
  },
  {
   "cell_type": "code",
   "execution_count": 20,
   "metadata": {},
   "outputs": [],
   "source": [
    "# for each row in the csv, convert it into a string \n",
    "# of format \"Tree Node Id\", \"Tree Node Label\"\n",
    "# and write it to a file\n",
    "with open('labels.txt', 'w') as f:\n",
    "    for index, row in df.iterrows():\n",
    "        id = row['Tree Node ID']\n",
    "        id = id.replace('magid_', 'magid|')\n",
    "        label = row['Tree Node Label']\n",
    "        f.write('{},{}\\n'.format(id, label))"
   ]
  },
  {
   "cell_type": "code",
   "execution_count": 21,
   "metadata": {},
   "outputs": [],
   "source": [
    "text = '''LABELS\n",
    "#use this template to change the leaf labels, or define/change the internal node names\n",
    "#lines starting with a hash are comments and ignored during parsing\n",
    "\n",
    "#=================================================================#\n",
    "#                    MANDATORY SETTINGS                           #\n",
    "#=================================================================#\n",
    "#select the separator which is used to delimit the data below (TAB,SPACE or COMMA).This separator must be used throughout this file.\n",
    "\n",
    "#SEPARATOR TAB\n",
    "#SEPARATOR SPACE\n",
    "SEPARATOR COMMA\n",
    "\n",
    "#Internal tree nodes can be specified using IDs directly, or using the 'last common ancestor' method described in iTOL help pages\n",
    "#=================================================================#\n",
    "#       Actual data follows after the \"DATA\" keyword              #\n",
    "#=================================================================#\n",
    "DATA\n",
    "'''\n",
    "\n",
    "# write the text to the file\n",
    "with open('labels.txt', 'r') as f:\n",
    "    text += f.read()\n",
    "\n",
    "# write the text to the file\n",
    "with open('labels.txt', 'w') as f:\n",
    "    f.write(text)"
   ]
  },
  {
   "cell_type": "code",
   "execution_count": null,
   "metadata": {},
   "outputs": [],
   "source": []
  },
  {
   "cell_type": "code",
   "execution_count": null,
   "metadata": {},
   "outputs": [],
   "source": []
  }
 ],
 "metadata": {
  "kernelspec": {
   "display_name": "base",
   "language": "python",
   "name": "python3"
  },
  "language_info": {
   "codemirror_mode": {
    "name": "ipython",
    "version": 3
   },
   "file_extension": ".py",
   "mimetype": "text/x-python",
   "name": "python",
   "nbconvert_exporter": "python",
   "pygments_lexer": "ipython3",
   "version": "3.10.11"
  }
 },
 "nbformat": 4,
 "nbformat_minor": 2
}
